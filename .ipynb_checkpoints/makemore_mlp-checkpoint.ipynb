{
 "cells": [
  {
   "cell_type": "code",
   "execution_count": 2,
   "id": "11fc6500-83ac-43fc-9083-71a1921ff3b9",
   "metadata": {},
   "outputs": [],
   "source": [
    "import torch\n",
    "import torch.nn.functional as F\n",
    "import matplotlib.pyplot as plt # for making figures\n",
    "%matplotlib inline\n",
    "import os    \n",
    "os.environ['KMP_DUPLICATE_LIB_OK'] = 'True'"
   ]
  },
  {
   "cell_type": "code",
   "execution_count": 3,
   "id": "51f07fcb-12ea-4c6f-a842-9f22897552ec",
   "metadata": {
    "tags": []
   },
   "outputs": [
    {
     "data": {
      "text/plain": [
       "['emma', 'olivia', 'ava', 'isabella', 'sophia', 'charlotte', 'mia', 'amelia']"
      ]
     },
     "execution_count": 3,
     "metadata": {},
     "output_type": "execute_result"
    }
   ],
   "source": [
    "# read in all the words\n",
    "words = open('names.txt', 'r').read().splitlines()\n",
    "words[:8]"
   ]
  },
  {
   "cell_type": "code",
   "execution_count": 4,
   "id": "9210cf37-50d8-445f-82ed-10657666ca51",
   "metadata": {
    "tags": []
   },
   "outputs": [
    {
     "data": {
      "text/plain": [
       "32033"
      ]
     },
     "execution_count": 4,
     "metadata": {},
     "output_type": "execute_result"
    }
   ],
   "source": [
    "len(words)"
   ]
  },
  {
   "cell_type": "code",
   "execution_count": 5,
   "id": "64e29874-f58a-4ef8-a86d-d72315d2de67",
   "metadata": {
    "tags": []
   },
   "outputs": [
    {
     "name": "stdout",
     "output_type": "stream",
     "text": [
      "{1: 'a', 2: 'b', 3: 'c', 4: 'd', 5: 'e', 6: 'f', 7: 'g', 8: 'h', 9: 'i', 10: 'j', 11: 'k', 12: 'l', 13: 'm', 14: 'n', 15: 'o', 16: 'p', 17: 'q', 18: 'r', 19: 's', 20: 't', 21: 'u', 22: 'v', 23: 'w', 24: 'x', 25: 'y', 26: 'z', 0: '.'}\n"
     ]
    }
   ],
   "source": [
    "# build the vocabulary of characters and mappings to/from integers\n",
    "chars = sorted(list(set(''.join(words))))\n",
    "stoi = {s:i+1 for i,s in enumerate(chars)}\n",
    "stoi['.'] = 0\n",
    "itos = {i:s for s,i in stoi.items()}\n",
    "print(itos)"
   ]
  },
  {
   "cell_type": "code",
   "execution_count": 6,
   "id": "561bc749-08fd-4bb4-af91-5bfa9673adb7",
   "metadata": {
    "tags": []
   },
   "outputs": [],
   "source": [
    "# build the dataset\n",
    "\n",
    "block_size = 3 # context length: how many characters do we take to predict the next one?\n",
    "X, Y = [], []\n",
    "# for w in words[:5]:\n",
    "for w in words:  \n",
    "  # print(w)\n",
    "  context = [0] * block_size\n",
    "  for ch in w + '.':\n",
    "    # print(ch)\n",
    "    ix = stoi[ch]\n",
    "    X.append(context)\n",
    "    Y.append(ix)\n",
    "    # print(''.join(itos[i] for i in context), '--->', itos[ix])\n",
    "    context = context[1:] + [ix] # crop and append\n",
    "  \n",
    "X = torch.tensor(X)\n",
    "Y = torch.tensor(Y)\n",
    "# print(X)\n",
    "# print(Y)\n"
   ]
  },
  {
   "cell_type": "code",
   "execution_count": 7,
   "id": "3ffa0c6e-0160-4a9b-a829-6f1bd142feb2",
   "metadata": {
    "tags": []
   },
   "outputs": [
    {
     "data": {
      "text/plain": [
       "(torch.Size([228146, 3]), torch.int64, torch.Size([228146]), torch.int64)"
      ]
     },
     "execution_count": 7,
     "metadata": {},
     "output_type": "execute_result"
    }
   ],
   "source": [
    "X.shape, X.dtype, Y.shape, Y.dtype"
   ]
  },
  {
   "cell_type": "code",
   "execution_count": 8,
   "id": "703f7ba2-7208-4de8-b7eb-245a17d55a90",
   "metadata": {},
   "outputs": [
    {
     "name": "stdout",
     "output_type": "stream",
     "text": [
      "torch.Size([182625, 3]) torch.Size([182625])\n",
      "torch.Size([22655, 3]) torch.Size([22655])\n",
      "torch.Size([22866, 3]) torch.Size([22866])\n"
     ]
    }
   ],
   "source": [
    "# build the dataset\n",
    "block_size = 3 # context length: how many characters do we take to predict the next one?\n",
    "\n",
    "def build_dataset(words):  \n",
    "  X, Y = [], []\n",
    "  for w in words:\n",
    "\n",
    "    #print(w)\n",
    "    context = [0] * block_size\n",
    "    for ch in w + '.':\n",
    "      ix = stoi[ch]\n",
    "      X.append(context)\n",
    "      Y.append(ix)\n",
    "      #print(''.join(itos[i] for i in context), '--->', itos[ix])\n",
    "      context = context[1:] + [ix] # crop and append\n",
    "\n",
    "  X = torch.tensor(X)\n",
    "  Y = torch.tensor(Y)\n",
    "  print(X.shape, Y.shape)\n",
    "  return X, Y\n",
    "\n",
    "import random\n",
    "random.seed(42)\n",
    "random.shuffle(words)\n",
    "n1 = int(0.8*len(words))\n",
    "n2 = int(0.9*len(words))\n",
    "\n",
    "Xtr, Ytr = build_dataset(words[:n1])\n",
    "Xdev, Ydev = build_dataset(words[n1:n2])\n",
    "Xte, Yte = build_dataset(words[n2:])"
   ]
  },
  {
   "cell_type": "code",
   "execution_count": 9,
   "id": "aae1b26f-a195-4ef8-bd5e-17bff72a83f6",
   "metadata": {
    "tags": []
   },
   "outputs": [],
   "source": [
    "#lookup table\n",
    "C = torch.randn((27,2)) "
   ]
  },
  {
   "cell_type": "code",
   "execution_count": 10,
   "id": "bf1833b7-e2ec-4ec7-bec7-1ef74be6a309",
   "metadata": {
    "tags": []
   },
   "outputs": [
    {
     "data": {
      "text/plain": [
       "torch.Size([228146, 3, 2])"
      ]
     },
     "execution_count": 10,
     "metadata": {},
     "output_type": "execute_result"
    }
   ],
   "source": [
    "emb = C[X]\n",
    "emb.shape"
   ]
  },
  {
   "cell_type": "code",
   "execution_count": 11,
   "id": "d0116074-6ff1-4ac1-898f-ca2a65b3e64b",
   "metadata": {
    "tags": []
   },
   "outputs": [],
   "source": [
    "# Generating Weights and Bias for our layer 1 aka hidden layer\n",
    "W1 = torch.randn((6, 100))\n",
    "b1 = torch.randn(100)"
   ]
  },
  {
   "cell_type": "code",
   "execution_count": 12,
   "id": "44e58952-1fce-40b5-ba98-13dd06ee6f3d",
   "metadata": {
    "tags": []
   },
   "outputs": [],
   "source": [
    "h = torch.tanh(emb.view(-1, 6) @ W1 + b1)"
   ]
  },
  {
   "cell_type": "code",
   "execution_count": 13,
   "id": "ca5478a4-56c1-4227-a1c1-78dd570a5b24",
   "metadata": {
    "tags": []
   },
   "outputs": [
    {
     "data": {
      "text/plain": [
       "tensor([[-0.2964,  0.9813,  0.9853,  ...,  0.6389, -0.6218,  0.1210],\n",
       "        [-0.2255,  0.9999,  0.9958,  ...,  0.9986, -0.9969, -0.5483],\n",
       "        [-0.9973,  0.9743,  0.9553,  ...,  0.6544, -0.1048, -0.9873],\n",
       "        ...,\n",
       "        [ 0.4718,  0.9796, -0.6157,  ..., -0.9227,  0.6960,  0.9817],\n",
       "        [ 0.9929,  1.0000,  0.6243,  ...,  0.9996, -1.0000,  0.9976],\n",
       "        [-0.9980, -0.9892,  0.6534,  ..., -0.9856,  0.9991, -0.9042]])"
      ]
     },
     "execution_count": 13,
     "metadata": {},
     "output_type": "execute_result"
    }
   ],
   "source": [
    "h"
   ]
  },
  {
   "cell_type": "code",
   "execution_count": 14,
   "id": "547be9b8-0048-41b2-8362-2ac441a22901",
   "metadata": {
    "tags": []
   },
   "outputs": [
    {
     "data": {
      "text/plain": [
       "torch.Size([228146, 100])"
      ]
     },
     "execution_count": 14,
     "metadata": {},
     "output_type": "execute_result"
    }
   ],
   "source": [
    "h.shape"
   ]
  },
  {
   "cell_type": "code",
   "execution_count": 15,
   "id": "7e36127e-d175-4e8d-963f-52263afade0c",
   "metadata": {
    "tags": []
   },
   "outputs": [],
   "source": [
    "# Generating Weights and Bias for our layer 2 \n",
    "W2 = torch.randn((100, 27))\n",
    "b2 = torch.randn(27)"
   ]
  },
  {
   "cell_type": "code",
   "execution_count": 16,
   "id": "b1fa0fa6-1d2a-4546-975c-dadb4d36a9c3",
   "metadata": {
    "tags": []
   },
   "outputs": [],
   "source": [
    "logits = h @ W2 + b2"
   ]
  },
  {
   "cell_type": "code",
   "execution_count": 17,
   "id": "409db4d5-ec4a-4467-bc05-7617057b674a",
   "metadata": {
    "tags": []
   },
   "outputs": [
    {
     "data": {
      "text/plain": [
       "torch.Size([228146, 27])"
      ]
     },
     "execution_count": 17,
     "metadata": {},
     "output_type": "execute_result"
    }
   ],
   "source": [
    "logits.shape"
   ]
  },
  {
   "cell_type": "code",
   "execution_count": 18,
   "id": "eb1b8419-7c56-4a4c-a170-2c516ab08829",
   "metadata": {
    "tags": []
   },
   "outputs": [
    {
     "data": {
      "text/plain": [
       "torch.Size([228146, 27])"
      ]
     },
     "execution_count": 18,
     "metadata": {},
     "output_type": "execute_result"
    }
   ],
   "source": [
    "counts = logits.exp()\n",
    "prob = counts / counts.sum(1, keepdims=True)\n",
    "prob.shape"
   ]
  },
  {
   "cell_type": "code",
   "execution_count": 19,
   "id": "431e102e-f65a-49d2-bd7f-9b9cd29a41ed",
   "metadata": {
    "tags": []
   },
   "outputs": [
    {
     "data": {
      "text/plain": [
       "tensor([ 5, 13, 13,  ..., 26, 24,  0])"
      ]
     },
     "execution_count": 19,
     "metadata": {},
     "output_type": "execute_result"
    }
   ],
   "source": [
    "Y #desired outputs"
   ]
  },
  {
   "cell_type": "code",
   "execution_count": 20,
   "id": "28a29dd0-a61a-4f1a-8504-a739b302488b",
   "metadata": {
    "tags": []
   },
   "outputs": [],
   "source": [
    "# ------------ now made respectable :) ---------------"
   ]
  },
  {
   "cell_type": "code",
   "execution_count": 21,
   "id": "6e2e4a5a-2605-478e-a466-25faf6d2c7c6",
   "metadata": {
    "tags": []
   },
   "outputs": [
    {
     "data": {
      "text/plain": [
       "(torch.Size([182625, 3]), torch.Size([182625]))"
      ]
     },
     "execution_count": 21,
     "metadata": {},
     "output_type": "execute_result"
    }
   ],
   "source": [
    "Xtr.shape, Ytr.shape # dataset"
   ]
  },
  {
   "cell_type": "code",
   "execution_count": 22,
   "id": "8cf92d27-2972-4af7-821f-f5c654a44542",
   "metadata": {
    "tags": []
   },
   "outputs": [],
   "source": [
    "g = torch.Generator().manual_seed(2147483647) # for reproducibility\n",
    "# C = torch.randn((27, 2), generator=g)\n",
    "C = torch.randn((27, 10), generator=g)\n",
    "# W1 = torch.randn((6, 100), generator=g)\n",
    "# b1 = torch.randn(100, generator=g)\n",
    "# W2 = torch.randn((100, 27), generator=g)\n",
    "# W1 = torch.randn((6, 300), generator=g)\n",
    "# b1 = torch.randn(300, generator=g)\n",
    "# W2 = torch.randn((300, 27), generator=g)\n",
    "W1 = torch.randn((30, 200), generator=g)\n",
    "b1 = torch.randn(200, generator=g)\n",
    "W2 = torch.randn((200, 27), generator=g)\n",
    "b2 = torch.randn(27, generator=g)\n",
    "parameters = [C, W1, b1, W2, b2]"
   ]
  },
  {
   "cell_type": "code",
   "execution_count": 23,
   "id": "ef7c78a6-5e3d-47ca-8f2b-baa3e1e476d1",
   "metadata": {
    "tags": []
   },
   "outputs": [
    {
     "data": {
      "text/plain": [
       "11897"
      ]
     },
     "execution_count": 23,
     "metadata": {},
     "output_type": "execute_result"
    }
   ],
   "source": [
    "sum(p.nelement() for p in parameters)"
   ]
  },
  {
   "cell_type": "code",
   "execution_count": 24,
   "id": "6164e2e1-eb7c-479a-94ee-69d448b95dfe",
   "metadata": {
    "tags": []
   },
   "outputs": [],
   "source": [
    "for p in parameters:\n",
    "    p.requires_grad = True"
   ]
  },
  {
   "cell_type": "code",
   "execution_count": 25,
   "id": "be7333b1-13b8-4f5a-9684-261a4bc00b01",
   "metadata": {
    "tags": []
   },
   "outputs": [],
   "source": [
    "#Optimizing learning rate\n",
    "\n",
    "lre = torch.linspace(-3,0,1000)\n",
    "lrs = 10**lre"
   ]
  },
  {
   "cell_type": "code",
   "execution_count": 26,
   "id": "49a1c781-4a7b-4c2e-8f4c-2a72d5727227",
   "metadata": {},
   "outputs": [],
   "source": [
    "lri = []\n",
    "lossi = []\n",
    "stepi = []"
   ]
  },
  {
   "cell_type": "code",
   "execution_count": 33,
   "id": "96109aac-07fc-4a4f-b5a2-eb45a50edc0f",
   "metadata": {
    "tags": []
   },
   "outputs": [
    {
     "name": "stdout",
     "output_type": "stream",
     "text": [
      "1.958680510520935\n"
     ]
    }
   ],
   "source": [
    "\n",
    "for i in range(200000):\n",
    "    \n",
    "    #minibatch construct\n",
    "    #when the model parameters is largely overfits the taining batch dataset \n",
    "    #the model would sample the ouput from that batch only and the model would \n",
    "    #give inaccruate results for new test data\n",
    "    ix = torch.randint(0,Xtr.shape[0],(32,))  \n",
    "    \n",
    "    #forward pass\n",
    "    emb = C[Xtr[ix]] #32,3,10\n",
    "    # h = torch.tanh(emb.view(-1,6)@W1 + b1) #32,100\n",
    "    h = torch.tanh(emb.view(-1,30)@W1 + b1) #32,200\n",
    "    logits = h @ W2 + b2\n",
    "    # counts = logits.exp()\n",
    "    # prob = counts/counts.sum(1,keepdims=True)\n",
    "    # loss = -prob[torch.arange(32),Y].log().mean()\n",
    "    loss = F.cross_entropy(logits,Ytr[ix])\n",
    "    # print(loss.item()) \n",
    "    #backward pass\n",
    "    for p in parameters:\n",
    "        p.grad = None\n",
    "    loss.backward()\n",
    "\n",
    "    #update\n",
    "    # lr = lrs[i]\n",
    "    lr = 0.1 if i < 100000 else 0.01 #when we reach the plateau using this learning rate we decay it to 0.01\n",
    "    for p in parameters:\n",
    "        p.data += -lr * p.grad\n",
    "        \n",
    "    #track state\n",
    "    # lri.append(lre[i])\n",
    "    stepi.append(i)\n",
    "    # lossi.append(loss.item())\n",
    "    lossi.append(loss.log10().item())\n",
    "    \n",
    "print(loss.item()) \n",
    "#the loss is very low as we are using an input of only 32 examples while total parameters are 3481"
   ]
  },
  {
   "cell_type": "code",
   "execution_count": 28,
   "id": "c5a555e6-a3b7-42cb-9834-488ce609c5e9",
   "metadata": {
    "tags": []
   },
   "outputs": [],
   "source": [
    "# plt.plot(lri,lossi)"
   ]
  },
  {
   "cell_type": "code",
   "execution_count": 29,
   "id": "44ddcaf2-943a-4886-9f86-d8db8b146e57",
   "metadata": {},
   "outputs": [],
   "source": [
    "# hence 10^-1 is a good learning rate"
   ]
  },
  {
   "cell_type": "code",
   "execution_count": 30,
   "id": "a98d2741-01b2-44cb-92a1-1246d307db1b",
   "metadata": {},
   "outputs": [],
   "source": [
    "#training split, dev/validation split, test split\n",
    "# 80%,10%,10%\n",
    "#training split: to train parameters\n",
    "#dev/validation split: used to develop hyper parameters like size of hidden layer and embedding table\n",
    "# test split: to evaluate the performance of the model"
   ]
  },
  {
   "cell_type": "code",
   "execution_count": 34,
   "id": "263c22eb-41b6-41ee-8aa3-c1ba3eddc55b",
   "metadata": {},
   "outputs": [
    {
     "data": {
      "text/plain": [
       "tensor(2.0686, grad_fn=<NllLossBackward0>)"
      ]
     },
     "execution_count": 34,
     "metadata": {},
     "output_type": "execute_result"
    }
   ],
   "source": [
    "emb = C[Xtr] # (32, 3, 2)\n",
    "h = torch.tanh(emb.view(-1, 30) @ W1 + b1) # (32, 100)\n",
    "logits = h @ W2 + b2 # (32, 27)\n",
    "loss = F.cross_entropy(logits, Ytr)\n",
    "loss"
   ]
  },
  {
   "cell_type": "code",
   "execution_count": 35,
   "id": "cc6c5a0f-249b-4bef-a48e-34c9a51bbdb4",
   "metadata": {},
   "outputs": [
    {
     "data": {
      "text/plain": [
       "tensor(2.1327, grad_fn=<NllLossBackward0>)"
      ]
     },
     "execution_count": 35,
     "metadata": {},
     "output_type": "execute_result"
    }
   ],
   "source": [
    "emb = C[Xdev] # (32, 3, 2)\n",
    "h = torch.tanh(emb.view(-1, 30) @ W1 + b1) # (32, 100)\n",
    "logits = h @ W2 + b2 # (32, 27)\n",
    "loss = F.cross_entropy(logits, Ydev)\n",
    "loss\n",
    "\n",
    "#as dev loss and training loss are same we are underfitting that means our network is too small for our data set"
   ]
  },
  {
   "cell_type": "code",
   "execution_count": 36,
   "id": "47fd793f-4f36-48f4-b571-bd8b511ecf9f",
   "metadata": {},
   "outputs": [
    {
     "data": {
      "text/plain": [
       "[<matplotlib.lines.Line2D at 0x26d5a6139d0>]"
      ]
     },
     "execution_count": 36,
     "metadata": {},
     "output_type": "execute_result"
    },
    {
     "data": {
      "image/png": "[encoded data removed]",
      "text/plain": [
       "<Figure size 432x288 with 1 Axes>"
      ]
     },
     "metadata": {
      "needs_background": "light"
     },
     "output_type": "display_data"
    }
   ],
   "source": [
    "plt.plot(stepi,lossi) #during 2 dimensional embedded table\n",
    "#the thickness/noise is due to training on the mini batches"
   ]
  },
  {
   "cell_type": "code",
   "execution_count": 37,
   "id": "70980376-0d49-40cf-bd53-a1759cfd9654",
   "metadata": {},
   "outputs": [
    {
     "data": {
      "image/png": "[encoded data removed]",
      "text/plain": [
       "<Figure size 576x576 with 1 Axes>"
      ]
     },
     "metadata": {
      "needs_background": "light"
     },
     "output_type": "display_data"
    }
   ],
   "source": [
    "# visualize dimensions 0 and 1 of the embedding matrix C for all characters\n",
    "plt.figure(figsize=(8,8))\n",
    "plt.scatter(C[:,0].data, C[:,1].data, s=200)\n",
    "for i in range(C.shape[0]):\n",
    "    plt.text(C[i,0].item(), C[i,1].item(), itos[i], ha=\"center\", va=\"center\", color='white')\n",
    "plt.grid('minor')"
   ]
  },
  {
   "cell_type": "code",
   "execution_count": 44,
   "id": "070a611b-d6ca-4516-b73e-8e287ca0d7c3",
   "metadata": {},
   "outputs": [
    {
     "name": "stdout",
     "output_type": "stream",
     "text": [
      "dastabristee.\n",
      "nazeliana.\n",
      "abraymanp.\n",
      "eric.\n",
      "keniana.\n",
      "abdula.\n",
      "quindalin.\n",
      "aleina.\n",
      "demarwy.\n",
      "aby.\n",
      "jakonnon.\n",
      "nossellanadhibahmonce.\n",
      "mackaugai.\n",
      "jaivianna.\n",
      "sute.\n",
      "vera.\n",
      "kenn.\n",
      "yeanne.\n",
      "alex.\n",
      "vidyn.\n"
     ]
    }
   ],
   "source": [
    "# sample from the model\n",
    "# g = torch.Generator().manual_seed(2147483647 + 10)\n",
    "\n",
    "for _ in range(20):\n",
    "    \n",
    "    out = []\n",
    "    context = [0] * block_size # initialize with all ...\n",
    "    while True:\n",
    "      emb = C[torch.tensor([context])] # (1,block_size,d)\n",
    "      h = torch.tanh(emb.view(1, -1) @ W1 + b1)\n",
    "      logits = h @ W2 + b2\n",
    "      probs = F.softmax(logits, dim=1)\n",
    "      ix = torch.multinomial(probs, num_samples=1, generator=g).item()\n",
    "      context = context[1:] + [ix]\n",
    "      out.append(ix)\n",
    "      if ix == 0:\n",
    "        break\n",
    "    \n",
    "    print(''.join(itos[i] for i in out))"
   ]
  },
  {
   "cell_type": "code",
   "execution_count": null,
   "id": "b3b57d41-a00f-4bff-904b-5df669e39ae6",
   "metadata": {},
   "outputs": [],
   "source": []
  }
 ],
 "metadata": {
  "kernelspec": {
   "display_name": "Python 3 (ipykernel)",
   "language": "python",
   "name": "python3"
  },
  "language_info": {
   "codemirror_mode": {
    "name": "ipython",
    "version": 3
   },
   "file_extension": ".py",
   "mimetype": "text/x-python",
   "name": "python",
   "nbconvert_exporter": "python",
   "pygments_lexer": "ipython3",
   "version": "3.11.4"
  }
 },
 "nbformat": 4,
 "nbformat_minor": 5
}
